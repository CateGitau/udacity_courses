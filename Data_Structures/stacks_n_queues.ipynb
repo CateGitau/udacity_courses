{
 "cells": [
  {
   "cell_type": "markdown",
   "metadata": {},
   "source": [
    "# Stacks"
   ]
  },
  {
   "cell_type": "code",
   "execution_count": 1,
   "metadata": {},
   "outputs": [],
   "source": [
    "class Stack(object):\n",
    "    def __init__(self):\n",
    "        self.items = []\n",
    "        \n",
    "    #push item to the top of the stack\n",
    "    def push(self, item):\n",
    "        self.items.append(item)\n",
    "    \n",
    "    #pop or removes item that is at the top\n",
    "    def pop(self):\n",
    "        return self.items.pop()\n",
    "    \n",
    "    #checks if list or stack is empty\n",
    "    def is_empty(self):\n",
    "        return self.items == []\n",
    "    \n",
    "    #peeks the top stack if it is not empty\n",
    "    def peek(self):\n",
    "        if not self.is_empty():\n",
    "            return self.items[-1]\n",
    "    \n",
    "    def get_stack(self):\n",
    "        return self.items"
   ]
  },
  {
   "cell_type": "code",
   "execution_count": 2,
   "metadata": {},
   "outputs": [],
   "source": [
    "s = Stack()"
   ]
  },
  {
   "cell_type": "code",
   "execution_count": 3,
   "metadata": {},
   "outputs": [],
   "source": [
    "s.push('A')\n",
    "s.push('B')\n",
    "s.push('C')\n",
    "s.push('D')"
   ]
  },
  {
   "cell_type": "code",
   "execution_count": 4,
   "metadata": {},
   "outputs": [
    {
     "data": {
      "text/plain": [
       "['A', 'B', 'C', 'D']"
      ]
     },
     "execution_count": 4,
     "metadata": {},
     "output_type": "execute_result"
    }
   ],
   "source": [
    "s.get_stack()"
   ]
  },
  {
   "cell_type": "code",
   "execution_count": 5,
   "metadata": {},
   "outputs": [
    {
     "data": {
      "text/plain": [
       "'D'"
      ]
     },
     "execution_count": 5,
     "metadata": {},
     "output_type": "execute_result"
    }
   ],
   "source": [
    "s.pop()"
   ]
  },
  {
   "cell_type": "code",
   "execution_count": 6,
   "metadata": {},
   "outputs": [
    {
     "data": {
      "text/plain": [
       "['A', 'B', 'C']"
      ]
     },
     "execution_count": 6,
     "metadata": {},
     "output_type": "execute_result"
    }
   ],
   "source": [
    "s.get_stack()"
   ]
  },
  {
   "cell_type": "code",
   "execution_count": 7,
   "metadata": {},
   "outputs": [
    {
     "data": {
      "text/plain": [
       "'C'"
      ]
     },
     "execution_count": 7,
     "metadata": {},
     "output_type": "execute_result"
    }
   ],
   "source": [
    "s.peek()"
   ]
  },
  {
   "cell_type": "markdown",
   "metadata": {},
   "source": [
    "Determine whether or not a string has a balanced usage of parenthesis\n",
    "\n",
    "Example:\n",
    "\n",
    "(), ()(), (({[]})) <- Balanced\n",
    "\n",
    "\n",
    "((), {{)}], [][]]] <- Not Balanced"
   ]
  },
  {
   "cell_type": "code",
   "execution_count": 8,
   "metadata": {},
   "outputs": [],
   "source": [
    "#Python code to check for balanced parenthesis in an expression\n",
    "open_list = ['[', '{', '(']\n",
    "closed_list = [']', '}', ')']\n",
    "\n",
    "#function to check parenthesis\n",
    "def check(mystr):\n",
    "    stack = []\n",
    "    \n",
    "    for i in mystr:\n",
    "        if i in open_list:\n",
    "            stack.append(i)\n",
    "        elif i in closed_list:\n",
    "            pos = closed_list.index(i)\n",
    "            if ((len(stack) > 0)) and (open_list[pos] == stack[len(stack)-1]):\n",
    "                stack.pop()\n",
    "                \n",
    "            else:\n",
    "                return 'unbalanced'\n",
    "    if len(stack) == 0:\n",
    "        return 'Balanced'\n",
    "                "
   ]
  },
  {
   "cell_type": "markdown",
   "metadata": {},
   "source": [
    "Use a stack data structure to convert integer values to binary\n",
    "\n",
    "Example: 242\n",
    "\n",
    "242 / 2   -> 0\n",
    "\n",
    "121 // 2  -> 1\n",
    "\n",
    "60 / 2    -> 0\n",
    "\n",
    "30 / 2    -> 0\n",
    "\n",
    "15 / 2    -> 1\n",
    "\n",
    "7 / 2     -> 1\n",
    "\n",
    "3 / 2     -> 1\n",
    "\n",
    "1 / 2     -> 1\n",
    "\n",
    "int('11110010', 2)\n",
    "\n",
    "should give 242\n"
   ]
  },
  {
   "cell_type": "code",
   "execution_count": 8,
   "metadata": {},
   "outputs": [],
   "source": [
    "def div_by_2(num):\n",
    "    s = Stack()\n",
    "    while num > 0:\n",
    "        remainder = num % 2\n",
    "        s.push(remainder)\n",
    "        num = num // 2\n",
    "        \n",
    "    bin_num = ''\n",
    "    while not s.is_empty():\n",
    "        bin_num += str(s.pop())\n",
    "        \n",
    "        \n",
    "    return bin_num\n",
    "        "
   ]
  },
  {
   "cell_type": "code",
   "execution_count": 9,
   "metadata": {},
   "outputs": [
    {
     "data": {
      "text/plain": [
       "'11110010'"
      ]
     },
     "execution_count": 9,
     "metadata": {},
     "output_type": "execute_result"
    }
   ],
   "source": [
    "div_by_2(242)"
   ]
  },
  {
   "cell_type": "code",
   "execution_count": 10,
   "metadata": {},
   "outputs": [],
   "source": [
    "## Udacity\n",
    "class Element(object):\n",
    "    def __init__(self, value):\n",
    "        self.value = value\n",
    "        self.next = None\n",
    "\n",
    "class LinkedList(object):\n",
    "    def __init__(self, head=None):\n",
    "        self.head = head\n",
    "\n",
    "    def append(self, new_element):\n",
    "        current = self.head\n",
    "        if self.head:\n",
    "            while current.next:\n",
    "                current = current.next\n",
    "            current.next = new_element\n",
    "        else:\n",
    "            self.head = new_element\n",
    "\n",
    "    def insert_first(self, new_element):\n",
    "        new_element.next = self.head\n",
    "        self.head = new_element\n",
    "        \n",
    "    #\"Delete the first (head) element in the LinkedList as return it\"\n",
    "    def delete_first(self):\n",
    "        if self.head:\n",
    "            deleted_element = self.head\n",
    "            temp = deleted_element.next\n",
    "            self.head = temp\n",
    "            return deleted_element\n",
    "        else:\n",
    "            return None\n",
    "\n",
    "class Stack(object):\n",
    "    def __init__(self,top=None):\n",
    "        self.ll = LinkedList(top)\n",
    "    #\"Push (add) a new element onto the top of the stack\"\n",
    "    def push(self, new_element):\n",
    "        self.ll.insert_first(new_element)\n",
    "    #\"Pop (remove) the first element off the top of the stack and return it\"\n",
    "    def pop(self):\n",
    "        return self.ll.delete_first()"
   ]
  },
  {
   "cell_type": "code",
   "execution_count": null,
   "metadata": {},
   "outputs": [],
   "source": []
  }
 ],
 "metadata": {
  "kernelspec": {
   "display_name": "Python 3",
   "language": "python",
   "name": "python3"
  },
  "language_info": {
   "codemirror_mode": {
    "name": "ipython",
    "version": 3
   },
   "file_extension": ".py",
   "mimetype": "text/x-python",
   "name": "python",
   "nbconvert_exporter": "python",
   "pygments_lexer": "ipython3",
   "version": "3.7.3"
  }
 },
 "nbformat": 4,
 "nbformat_minor": 2
}
