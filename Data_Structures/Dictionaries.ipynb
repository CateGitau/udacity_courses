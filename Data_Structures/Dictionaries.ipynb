{
 "cells": [
  {
   "cell_type": "markdown",
   "metadata": {},
   "source": [
    "# Dictionaries/ Maps"
   ]
  },
  {
   "cell_type": "markdown",
   "metadata": {},
   "source": [
    "\"\"\"Time to play with Python dictionaries!\n",
    "You're going to work on a dictionary that\n",
    "stores cities by country and continent.\n",
    "One is done for you - the city of Mountain \n",
    "View is in the USA, which is in North America.\n",
    "\n",
    "You need to add the cities listed below by\n",
    "modifying the structure.\n",
    "Then, you should print out the values specified\n",
    "by looking them up in the structure.\n",
    "\n",
    "Cities to add:\n",
    "Bangalore (India, Asia)\n",
    "Atlanta (USA, North America)\n",
    "Cairo (Egypt, Africa)\n",
    "Shanghai (China, Asia)\"\"\""
   ]
  },
  {
   "cell_type": "code",
   "execution_count": 5,
   "metadata": {},
   "outputs": [],
   "source": [
    "locations = {'North America': {'USA': ['Mountain View']}}"
   ]
  },
  {
   "cell_type": "code",
   "execution_count": 6,
   "metadata": {},
   "outputs": [
    {
     "data": {
      "text/plain": [
       "{'North America': {'USA': ['Mountain View', 'Atlanta']}}"
      ]
     },
     "execution_count": 6,
     "metadata": {},
     "output_type": "execute_result"
    }
   ],
   "source": [
    "locations['North America']['USA'].append('Atlanta')\n",
    "locations"
   ]
  },
  {
   "cell_type": "code",
   "execution_count": 7,
   "metadata": {},
   "outputs": [
    {
     "data": {
      "text/plain": [
       "{'North America': {'USA': ['Mountain View', 'Atlanta']},\n",
       " 'Asia': {'India': ['Bangalore']}}"
      ]
     },
     "execution_count": 7,
     "metadata": {},
     "output_type": "execute_result"
    }
   ],
   "source": [
    "locations['Asia'] = {'India': ['Bangalore']}\n",
    "locations"
   ]
  },
  {
   "cell_type": "code",
   "execution_count": 8,
   "metadata": {},
   "outputs": [
    {
     "data": {
      "text/plain": [
       "{'North America': {'USA': ['Mountain View', 'Atlanta']},\n",
       " 'Asia': {'India': ['Bangalore']},\n",
       " 'Africa': {'Egypt': ['Cairo']}}"
      ]
     },
     "execution_count": 8,
     "metadata": {},
     "output_type": "execute_result"
    }
   ],
   "source": [
    "locations['Africa'] = {'Egypt': ['Cairo']}\n",
    "locations"
   ]
  },
  {
   "cell_type": "code",
   "execution_count": 12,
   "metadata": {},
   "outputs": [
    {
     "data": {
      "text/plain": [
       "{'North America': {'USA': ['Mountain View', 'Atlanta']},\n",
       " 'Asia': {'India': ['Bangalore'], 'China': ['Shanghai']},\n",
       " 'Africa': {'Egypt': ['Cairo']}}"
      ]
     },
     "execution_count": 12,
     "metadata": {},
     "output_type": "execute_result"
    }
   ],
   "source": [
    "locations['Asia']['China'] = ['Shanghai']\n",
    "locations"
   ]
  },
  {
   "cell_type": "markdown",
   "metadata": {},
   "source": [
    "Print the following (using \"print\").\n",
    "\n",
    "1. A list of all cities in the USA in\n",
    "\n",
    "alphabetic order.\n",
    "\n",
    "2. All cities in Asia, in alphabetic\n",
    "\n",
    "order, next to the name of the country.\n",
    "In your output, label each answer with a number\n",
    "so it looks like this:\n",
    "\n",
    "1\n",
    "\n",
    "American City\n",
    "\n",
    "American City\n",
    "\n",
    "2\n",
    "\n",
    "Asian City - Country\n",
    "\n",
    "Asian City - Country"
   ]
  },
  {
   "cell_type": "code",
   "execution_count": 15,
   "metadata": {},
   "outputs": [
    {
     "name": "stdout",
     "output_type": "stream",
     "text": [
      "1\n",
      "Atlanta\n",
      "Mountain View\n"
     ]
    }
   ],
   "source": [
    "print(1)\n",
    "usa_sorted = sorted(locations['North America']['USA'])\n",
    "\n",
    "for i in usa_sorted:\n",
    "    print (i)"
   ]
  },
  {
   "cell_type": "code",
   "execution_count": 18,
   "metadata": {},
   "outputs": [
    {
     "name": "stdout",
     "output_type": "stream",
     "text": [
      "2\n",
      "Bangalore - India\n",
      "Shanghai - China\n"
     ]
    }
   ],
   "source": [
    "print(2)\n",
    "asia_cities= []\n",
    "for countries, cities in locations['Asia'].items():\n",
    "    city_country = cities[0]+ ' - ' +countries\n",
    "    asia_cities.append(city_country)\n",
    "    \n",
    "asia_sorted = sorted(asia_cities)\n",
    "\n",
    "for city in asia_sorted:\n",
    "    print(city)"
   ]
  }
 ],
 "metadata": {
  "kernelspec": {
   "display_name": "Python 3",
   "language": "python",
   "name": "python3"
  },
  "language_info": {
   "codemirror_mode": {
    "name": "ipython",
    "version": 3
   },
   "file_extension": ".py",
   "mimetype": "text/x-python",
   "name": "python",
   "nbconvert_exporter": "python",
   "pygments_lexer": "ipython3",
   "version": "3.7.3"
  }
 },
 "nbformat": 4,
 "nbformat_minor": 2
}
